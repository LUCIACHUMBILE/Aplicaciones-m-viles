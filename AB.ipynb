{
 "cells": [
  {
   "cell_type": "markdown",
   "metadata": {},
   "source": [
    "# Proyecto de pruebas A/B: Prueba recommender_system_test"
   ]
  },
  {
   "cell_type": "markdown",
   "metadata": {},
   "source": [
    "# Índice del Proyecto\n",
    "\n",
    "| Sección                       | Descripción                                                       |\n",
    "|-------------------------------|-------------------------------------------------------------------|\n",
    "| 1. [Introducción](#introducción)          | Breve descripción del proyecto y sus objetivos.                |\n",
    "| 2. [Preprocesamiento de Datos](#Análisis)|Importación de librerías, carga de datos, revisión de duplicados, nulos y tipo de datos.   |\n",
    "| 3. [Análisis Datos](#instalación)         |Análisis de cohorte y métricas.|\n",
    "| 4. [Prueba de hipótesis](#resultados)     |Prueba de hipótesis test A/B.          |\n",
    "| 5. [Conclusiones](#conclusiones)          |Resumen de las conclusiones .       |\n"
   ]
  },
  {
   "cell_type": "markdown",
   "metadata": {},
   "source": [
    "# Introducción"
   ]
  },
  {
   "cell_type": "markdown",
   "metadata": {},
   "source": [
    "En el presente proyecto se cuenta con especificaciones técnicas y los resultados una prueba A/B realizada anteriormente, con ello se verificará si se ha realizado correctamente y se analizará los resultados."
   ]
  },
  {
   "cell_type": "markdown",
   "metadata": {},
   "source": [
    "## Descripción Técnica"
   ]
  },
  {
   "cell_type": "markdown",
   "metadata": {},
   "source": [
    "- Nombre de la prueba: `recommender_system_test`\n",
    "- Grupos: А (control), B (nuevo embudo de pago)\n",
    "- Launch date: 2020-12-07\n",
    "- Fecha en la que dejaron de aceptar nuevos usuarios: 2020-12-21\n",
    "- Fecha de finalización: 2021-01-01\n",
    "- Audiencia: 15% de los nuevos usuarios de la región de la UE\n",
    "- Propósito de la prueba: probar cambios relacionados con la introducción de un sistema de recomendaciones mejorado\n",
    "- Resultado esperado: dentro de los 14 días posteriores a la inscripción, los usuarios mostrarán una mejor conversión\n",
    " en vistas de la página del producto (el evento `product_page`), instancias de agregar artículos al carrito de compras (`product_card`) \n",
    " y compras (`purchase`). En cada etapa del embudo `product_page → product_card → purchase`, habrá al menos un 10% de aumento.\n",
    "- Número previsto de participantes de la prueba: 6 000"
   ]
  },
  {
   "cell_type": "markdown",
   "metadata": {},
   "source": [
    "# Preprocesamiento de Datos"
   ]
  },
  {
   "cell_type": "markdown",
   "metadata": {},
   "source": [
    "## Importación de librerías"
   ]
  },
  {
   "cell_type": "code",
   "execution_count": 149,
   "metadata": {},
   "outputs": [],
   "source": [
    "import pandas as pd\n",
    "import seaborn as sns\n",
    "import matplotlib.pyplot as plt\n",
    "\n",
    "from scipy.stats import ttest_ind, norm\n",
    "import math"
   ]
  },
  {
   "cell_type": "markdown",
   "metadata": {},
   "source": [
    "## Carga de datos"
   ]
  },
  {
   "cell_type": "code",
   "execution_count": 150,
   "metadata": {},
   "outputs": [],
   "source": [
    "Calendario_Event = pd.read_csv(\"ab_project_marketing_events_us.txt\")\n",
    "data_users = pd.read_csv(\"final_ab_new_users_upd_us.txt\")\n",
    "data_eventos = pd.read_csv(\"final_ab_events_upd_us.txt\")\n",
    "data_prueba = pd.read_csv(\"final_ab_participants_upd_us.txt\")"
   ]
  },
  {
   "cell_type": "code",
   "execution_count": 151,
   "metadata": {},
   "outputs": [
    {
     "data": {
      "text/html": [
       "<div>\n",
       "<style scoped>\n",
       "    .dataframe tbody tr th:only-of-type {\n",
       "        vertical-align: middle;\n",
       "    }\n",
       "\n",
       "    .dataframe tbody tr th {\n",
       "        vertical-align: top;\n",
       "    }\n",
       "\n",
       "    .dataframe thead th {\n",
       "        text-align: right;\n",
       "    }\n",
       "</style>\n",
       "<table border=\"1\" class=\"dataframe\">\n",
       "  <thead>\n",
       "    <tr style=\"text-align: right;\">\n",
       "      <th></th>\n",
       "      <th>name</th>\n",
       "      <th>regions</th>\n",
       "      <th>start_dt</th>\n",
       "      <th>finish_dt</th>\n",
       "    </tr>\n",
       "  </thead>\n",
       "  <tbody>\n",
       "    <tr>\n",
       "      <th>0</th>\n",
       "      <td>Christmas&amp;New Year Promo</td>\n",
       "      <td>EU, N.America</td>\n",
       "      <td>2020-12-25</td>\n",
       "      <td>2021-01-03</td>\n",
       "    </tr>\n",
       "    <tr>\n",
       "      <th>13</th>\n",
       "      <td>Chinese Moon Festival</td>\n",
       "      <td>APAC</td>\n",
       "      <td>2020-10-01</td>\n",
       "      <td>2020-10-07</td>\n",
       "    </tr>\n",
       "    <tr>\n",
       "      <th>5</th>\n",
       "      <td>Black Friday Ads Campaign</td>\n",
       "      <td>EU, CIS, APAC, N.America</td>\n",
       "      <td>2020-11-26</td>\n",
       "      <td>2020-12-01</td>\n",
       "    </tr>\n",
       "    <tr>\n",
       "      <th>7</th>\n",
       "      <td>Labor day (May 1st) Ads Campaign</td>\n",
       "      <td>EU, CIS, APAC</td>\n",
       "      <td>2020-05-01</td>\n",
       "      <td>2020-05-03</td>\n",
       "    </tr>\n",
       "    <tr>\n",
       "      <th>3</th>\n",
       "      <td>Easter Promo</td>\n",
       "      <td>EU, CIS, APAC, N.America</td>\n",
       "      <td>2020-04-12</td>\n",
       "      <td>2020-04-19</td>\n",
       "    </tr>\n",
       "    <tr>\n",
       "      <th>4</th>\n",
       "      <td>4th of July Promo</td>\n",
       "      <td>N.America</td>\n",
       "      <td>2020-07-04</td>\n",
       "      <td>2020-07-11</td>\n",
       "    </tr>\n",
       "    <tr>\n",
       "      <th>1</th>\n",
       "      <td>St. Valentine's Day Giveaway</td>\n",
       "      <td>EU, CIS, APAC, N.America</td>\n",
       "      <td>2020-02-14</td>\n",
       "      <td>2020-02-16</td>\n",
       "    </tr>\n",
       "    <tr>\n",
       "      <th>12</th>\n",
       "      <td>Single's Day Gift Promo</td>\n",
       "      <td>APAC</td>\n",
       "      <td>2020-11-11</td>\n",
       "      <td>2020-11-12</td>\n",
       "    </tr>\n",
       "    <tr>\n",
       "      <th>10</th>\n",
       "      <td>CIS New Year Gift Lottery</td>\n",
       "      <td>CIS</td>\n",
       "      <td>2020-12-30</td>\n",
       "      <td>2021-01-07</td>\n",
       "    </tr>\n",
       "    <tr>\n",
       "      <th>6</th>\n",
       "      <td>Chinese New Year Promo</td>\n",
       "      <td>APAC</td>\n",
       "      <td>2020-01-25</td>\n",
       "      <td>2020-02-07</td>\n",
       "    </tr>\n",
       "  </tbody>\n",
       "</table>\n",
       "</div>"
      ],
      "text/plain": [
       "                                name                   regions    start_dt  \\\n",
       "0           Christmas&New Year Promo             EU, N.America  2020-12-25   \n",
       "13             Chinese Moon Festival                      APAC  2020-10-01   \n",
       "5          Black Friday Ads Campaign  EU, CIS, APAC, N.America  2020-11-26   \n",
       "7   Labor day (May 1st) Ads Campaign             EU, CIS, APAC  2020-05-01   \n",
       "3                       Easter Promo  EU, CIS, APAC, N.America  2020-04-12   \n",
       "4                  4th of July Promo                 N.America  2020-07-04   \n",
       "1       St. Valentine's Day Giveaway  EU, CIS, APAC, N.America  2020-02-14   \n",
       "12           Single's Day Gift Promo                      APAC  2020-11-11   \n",
       "10         CIS New Year Gift Lottery                       CIS  2020-12-30   \n",
       "6             Chinese New Year Promo                      APAC  2020-01-25   \n",
       "\n",
       "     finish_dt  \n",
       "0   2021-01-03  \n",
       "13  2020-10-07  \n",
       "5   2020-12-01  \n",
       "7   2020-05-03  \n",
       "3   2020-04-19  \n",
       "4   2020-07-11  \n",
       "1   2020-02-16  \n",
       "12  2020-11-12  \n",
       "10  2021-01-07  \n",
       "6   2020-02-07  "
      ]
     },
     "execution_count": 151,
     "metadata": {},
     "output_type": "execute_result"
    }
   ],
   "source": [
    "Calendario_Event.sample(10)"
   ]
  },
  {
   "cell_type": "code",
   "execution_count": 152,
   "metadata": {},
   "outputs": [
    {
     "data": {
      "text/html": [
       "<div>\n",
       "<style scoped>\n",
       "    .dataframe tbody tr th:only-of-type {\n",
       "        vertical-align: middle;\n",
       "    }\n",
       "\n",
       "    .dataframe tbody tr th {\n",
       "        vertical-align: top;\n",
       "    }\n",
       "\n",
       "    .dataframe thead th {\n",
       "        text-align: right;\n",
       "    }\n",
       "</style>\n",
       "<table border=\"1\" class=\"dataframe\">\n",
       "  <thead>\n",
       "    <tr style=\"text-align: right;\">\n",
       "      <th></th>\n",
       "      <th>user_id</th>\n",
       "      <th>first_date</th>\n",
       "      <th>region</th>\n",
       "      <th>device</th>\n",
       "    </tr>\n",
       "  </thead>\n",
       "  <tbody>\n",
       "    <tr>\n",
       "      <th>1937</th>\n",
       "      <td>645F4EE1FDC99C91</td>\n",
       "      <td>2020-12-07</td>\n",
       "      <td>EU</td>\n",
       "      <td>PC</td>\n",
       "    </tr>\n",
       "    <tr>\n",
       "      <th>24087</th>\n",
       "      <td>7E6545620AE5DC37</td>\n",
       "      <td>2020-12-22</td>\n",
       "      <td>EU</td>\n",
       "      <td>Android</td>\n",
       "    </tr>\n",
       "    <tr>\n",
       "      <th>16510</th>\n",
       "      <td>8D818A010082D32D</td>\n",
       "      <td>2020-12-21</td>\n",
       "      <td>EU</td>\n",
       "      <td>Mac</td>\n",
       "    </tr>\n",
       "    <tr>\n",
       "      <th>50550</th>\n",
       "      <td>275C7EF67C629D2E</td>\n",
       "      <td>2020-12-13</td>\n",
       "      <td>EU</td>\n",
       "      <td>Mac</td>\n",
       "    </tr>\n",
       "    <tr>\n",
       "      <th>32565</th>\n",
       "      <td>A74D5A3C20AAAF6F</td>\n",
       "      <td>2020-12-10</td>\n",
       "      <td>EU</td>\n",
       "      <td>Android</td>\n",
       "    </tr>\n",
       "  </tbody>\n",
       "</table>\n",
       "</div>"
      ],
      "text/plain": [
       "                user_id  first_date region   device\n",
       "1937   645F4EE1FDC99C91  2020-12-07     EU       PC\n",
       "24087  7E6545620AE5DC37  2020-12-22     EU  Android\n",
       "16510  8D818A010082D32D  2020-12-21     EU      Mac\n",
       "50550  275C7EF67C629D2E  2020-12-13     EU      Mac\n",
       "32565  A74D5A3C20AAAF6F  2020-12-10     EU  Android"
      ]
     },
     "execution_count": 152,
     "metadata": {},
     "output_type": "execute_result"
    }
   ],
   "source": [
    "data_users.sample(5)"
   ]
  },
  {
   "cell_type": "code",
   "execution_count": 153,
   "metadata": {},
   "outputs": [
    {
     "data": {
      "text/html": [
       "<div>\n",
       "<style scoped>\n",
       "    .dataframe tbody tr th:only-of-type {\n",
       "        vertical-align: middle;\n",
       "    }\n",
       "\n",
       "    .dataframe tbody tr th {\n",
       "        vertical-align: top;\n",
       "    }\n",
       "\n",
       "    .dataframe thead th {\n",
       "        text-align: right;\n",
       "    }\n",
       "</style>\n",
       "<table border=\"1\" class=\"dataframe\">\n",
       "  <thead>\n",
       "    <tr style=\"text-align: right;\">\n",
       "      <th></th>\n",
       "      <th>user_id</th>\n",
       "      <th>event_dt</th>\n",
       "      <th>event_name</th>\n",
       "      <th>details</th>\n",
       "    </tr>\n",
       "  </thead>\n",
       "  <tbody>\n",
       "    <tr>\n",
       "      <th>209786</th>\n",
       "      <td>D033CF0A6DE7E0AC</td>\n",
       "      <td>2020-12-22 06:55:03</td>\n",
       "      <td>product_page</td>\n",
       "      <td>NaN</td>\n",
       "    </tr>\n",
       "    <tr>\n",
       "      <th>135022</th>\n",
       "      <td>1B93EAC69E03A6C2</td>\n",
       "      <td>2020-12-11 05:20:07</td>\n",
       "      <td>product_page</td>\n",
       "      <td>NaN</td>\n",
       "    </tr>\n",
       "    <tr>\n",
       "      <th>396541</th>\n",
       "      <td>FC93A77E4F5D5E0F</td>\n",
       "      <td>2020-12-24 02:05:07</td>\n",
       "      <td>login</td>\n",
       "      <td>NaN</td>\n",
       "    </tr>\n",
       "    <tr>\n",
       "      <th>315474</th>\n",
       "      <td>A49A47DB64E786EF</td>\n",
       "      <td>2020-12-16 14:37:27</td>\n",
       "      <td>login</td>\n",
       "      <td>NaN</td>\n",
       "    </tr>\n",
       "    <tr>\n",
       "      <th>231984</th>\n",
       "      <td>C44827B9BF9D3134</td>\n",
       "      <td>2020-12-27 20:43:00</td>\n",
       "      <td>product_page</td>\n",
       "      <td>NaN</td>\n",
       "    </tr>\n",
       "  </tbody>\n",
       "</table>\n",
       "</div>"
      ],
      "text/plain": [
       "                 user_id             event_dt    event_name  details\n",
       "209786  D033CF0A6DE7E0AC  2020-12-22 06:55:03  product_page      NaN\n",
       "135022  1B93EAC69E03A6C2  2020-12-11 05:20:07  product_page      NaN\n",
       "396541  FC93A77E4F5D5E0F  2020-12-24 02:05:07         login      NaN\n",
       "315474  A49A47DB64E786EF  2020-12-16 14:37:27         login      NaN\n",
       "231984  C44827B9BF9D3134  2020-12-27 20:43:00  product_page      NaN"
      ]
     },
     "execution_count": 153,
     "metadata": {},
     "output_type": "execute_result"
    }
   ],
   "source": [
    "data_eventos.sample(5)"
   ]
  },
  {
   "cell_type": "code",
   "execution_count": 154,
   "metadata": {},
   "outputs": [
    {
     "data": {
      "text/html": [
       "<div>\n",
       "<style scoped>\n",
       "    .dataframe tbody tr th:only-of-type {\n",
       "        vertical-align: middle;\n",
       "    }\n",
       "\n",
       "    .dataframe tbody tr th {\n",
       "        vertical-align: top;\n",
       "    }\n",
       "\n",
       "    .dataframe thead th {\n",
       "        text-align: right;\n",
       "    }\n",
       "</style>\n",
       "<table border=\"1\" class=\"dataframe\">\n",
       "  <thead>\n",
       "    <tr style=\"text-align: right;\">\n",
       "      <th></th>\n",
       "      <th>user_id</th>\n",
       "      <th>group</th>\n",
       "      <th>ab_test</th>\n",
       "    </tr>\n",
       "  </thead>\n",
       "  <tbody>\n",
       "    <tr>\n",
       "      <th>10978</th>\n",
       "      <td>984B7ED8DE0A4159</td>\n",
       "      <td>B</td>\n",
       "      <td>interface_eu_test</td>\n",
       "    </tr>\n",
       "    <tr>\n",
       "      <th>9087</th>\n",
       "      <td>93D76FD0A17370A5</td>\n",
       "      <td>B</td>\n",
       "      <td>interface_eu_test</td>\n",
       "    </tr>\n",
       "    <tr>\n",
       "      <th>13680</th>\n",
       "      <td>7AC55CA05DC53582</td>\n",
       "      <td>A</td>\n",
       "      <td>interface_eu_test</td>\n",
       "    </tr>\n",
       "    <tr>\n",
       "      <th>6250</th>\n",
       "      <td>DCFD32B9F3958615</td>\n",
       "      <td>A</td>\n",
       "      <td>interface_eu_test</td>\n",
       "    </tr>\n",
       "    <tr>\n",
       "      <th>3368</th>\n",
       "      <td>9B3DEB6615CFFE54</td>\n",
       "      <td>B</td>\n",
       "      <td>recommender_system_test</td>\n",
       "    </tr>\n",
       "  </tbody>\n",
       "</table>\n",
       "</div>"
      ],
      "text/plain": [
       "                user_id group                  ab_test\n",
       "10978  984B7ED8DE0A4159     B        interface_eu_test\n",
       "9087   93D76FD0A17370A5     B        interface_eu_test\n",
       "13680  7AC55CA05DC53582     A        interface_eu_test\n",
       "6250   DCFD32B9F3958615     A        interface_eu_test\n",
       "3368   9B3DEB6615CFFE54     B  recommender_system_test"
      ]
     },
     "execution_count": 154,
     "metadata": {},
     "output_type": "execute_result"
    }
   ],
   "source": [
    "data_prueba.sample(5)"
   ]
  },
  {
   "cell_type": "markdown",
   "metadata": {},
   "source": [
    "## Comprobando tipos de datos "
   ]
  },
  {
   "cell_type": "code",
   "execution_count": 155,
   "metadata": {},
   "outputs": [
    {
     "name": "stdout",
     "output_type": "stream",
     "text": [
      "<class 'pandas.core.frame.DataFrame'>\n",
      "RangeIndex: 14 entries, 0 to 13\n",
      "Data columns (total 4 columns):\n",
      " #   Column     Non-Null Count  Dtype \n",
      "---  ------     --------------  ----- \n",
      " 0   name       14 non-null     object\n",
      " 1   regions    14 non-null     object\n",
      " 2   start_dt   14 non-null     object\n",
      " 3   finish_dt  14 non-null     object\n",
      "dtypes: object(4)\n",
      "memory usage: 580.0+ bytes\n"
     ]
    }
   ],
   "source": [
    "Calendario_Event.info()"
   ]
  },
  {
   "cell_type": "code",
   "execution_count": 156,
   "metadata": {},
   "outputs": [
    {
     "name": "stdout",
     "output_type": "stream",
     "text": [
      "<class 'pandas.core.frame.DataFrame'>\n",
      "RangeIndex: 58703 entries, 0 to 58702\n",
      "Data columns (total 4 columns):\n",
      " #   Column      Non-Null Count  Dtype \n",
      "---  ------      --------------  ----- \n",
      " 0   user_id     58703 non-null  object\n",
      " 1   first_date  58703 non-null  object\n",
      " 2   region      58703 non-null  object\n",
      " 3   device      58703 non-null  object\n",
      "dtypes: object(4)\n",
      "memory usage: 1.8+ MB\n"
     ]
    }
   ],
   "source": [
    "data_users.info()"
   ]
  },
  {
   "cell_type": "code",
   "execution_count": 157,
   "metadata": {},
   "outputs": [
    {
     "name": "stdout",
     "output_type": "stream",
     "text": [
      "<class 'pandas.core.frame.DataFrame'>\n",
      "RangeIndex: 423761 entries, 0 to 423760\n",
      "Data columns (total 4 columns):\n",
      " #   Column      Non-Null Count   Dtype  \n",
      "---  ------      --------------   -----  \n",
      " 0   user_id     423761 non-null  object \n",
      " 1   event_dt    423761 non-null  object \n",
      " 2   event_name  423761 non-null  object \n",
      " 3   details     60314 non-null   float64\n",
      "dtypes: float64(1), object(3)\n",
      "memory usage: 12.9+ MB\n"
     ]
    }
   ],
   "source": [
    "data_eventos.info()"
   ]
  },
  {
   "cell_type": "code",
   "execution_count": 158,
   "metadata": {},
   "outputs": [
    {
     "name": "stdout",
     "output_type": "stream",
     "text": [
      "<class 'pandas.core.frame.DataFrame'>\n",
      "RangeIndex: 14525 entries, 0 to 14524\n",
      "Data columns (total 3 columns):\n",
      " #   Column   Non-Null Count  Dtype \n",
      "---  ------   --------------  ----- \n",
      " 0   user_id  14525 non-null  object\n",
      " 1   group    14525 non-null  object\n",
      " 2   ab_test  14525 non-null  object\n",
      "dtypes: object(3)\n",
      "memory usage: 340.6+ KB\n"
     ]
    }
   ],
   "source": [
    "\n",
    "data_prueba.info()"
   ]
  },
  {
   "cell_type": "markdown",
   "metadata": {},
   "source": [
    "### Convirtiendo tipos de datos\n"
   ]
  },
  {
   "cell_type": "code",
   "execution_count": 159,
   "metadata": {},
   "outputs": [
    {
     "data": {
      "text/plain": [
       "array(['purchase', 'product_cart', 'product_page', 'login'], dtype=object)"
      ]
     },
     "execution_count": 159,
     "metadata": {},
     "output_type": "execute_result"
    }
   ],
   "source": [
    "\n",
    "data_eventos[\"event_name\"].unique()"
   ]
  },
  {
   "cell_type": "code",
   "execution_count": 160,
   "metadata": {},
   "outputs": [
    {
     "data": {
      "text/plain": [
       "array(['PC', 'Android', 'iPhone', 'Mac'], dtype=object)"
      ]
     },
     "execution_count": 160,
     "metadata": {},
     "output_type": "execute_result"
    }
   ],
   "source": [
    "\n",
    "data_users[\"device\"].unique()"
   ]
  },
  {
   "cell_type": "code",
   "execution_count": 161,
   "metadata": {},
   "outputs": [],
   "source": [
    "# Convirtiendo a tipo de datos datatime\n",
    "\n",
    "Calendario_Event[\"start_dt\"] = pd.to_datetime(\n",
    "    Calendario_Event[\"start_dt\"], format='%Y-%m-%d')  # convirtiendo a datatime\n",
    "\n",
    "Calendario_Event[\"finish_dt\"] = pd.to_datetime(\n",
    "    # convirtiendo a datatime\n",
    "    Calendario_Event[\"finish_dt\"], format='%Y-%m-%d')"
   ]
  },
  {
   "cell_type": "code",
   "execution_count": 162,
   "metadata": {},
   "outputs": [],
   "source": [
    "# Convirtiendo a tipo de datos datatime\n",
    "\n",
    "data_users[\"first_date\"] = pd.to_datetime(\n",
    "    data_users[\"first_date\"], format='%Y-%m-%d')  # convirtiendo a datatime\n",
    "# Convirtiendo a tipo de datos datatime\n",
    "\n",
    "data_eventos[\"fecha_hora\"] = pd.to_datetime(\n",
    "    data_eventos[\"event_dt\"])  # convirtiendo a datatime\n",
    "data_eventos[\"fecha\"] = data_eventos[\"fecha_hora\"].dt.date  # extrayendo fecha\n",
    "\n",
    "\n",
    "# Convirtiendo los eventos a tipo de datos categoricos\n",
    "\n",
    "data_eventos[\"event_name\"] = data_eventos[\"event_name\"].astype(\"category\")\n",
    "\n",
    "# Convirtiendo las fuentes a tipo de datos categoricos\n",
    "\n",
    "data_users[\"device\"] = data_users[\"device\"].astype(\"category\")"
   ]
  },
  {
   "cell_type": "markdown",
   "metadata": {},
   "source": [
    "## Comprobando valores duplicados"
   ]
  },
  {
   "cell_type": "code",
   "execution_count": 163,
   "metadata": {},
   "outputs": [
    {
     "name": "stdout",
     "output_type": "stream",
     "text": [
      "0\n",
      "0\n"
     ]
    },
    {
     "name": "stdout",
     "output_type": "stream",
     "text": [
      "0\n",
      "0\n"
     ]
    }
   ],
   "source": [
    "print(Calendario_Event.duplicated().sum())\n",
    "print(data_users.duplicated().sum())\n",
    "print(data_eventos.duplicated().sum())\n",
    "print(data_prueba.duplicated().sum())"
   ]
  },
  {
   "cell_type": "markdown",
   "metadata": {},
   "source": [
    "Usuarios únicos en los registros"
   ]
  },
  {
   "cell_type": "code",
   "execution_count": 164,
   "metadata": {},
   "outputs": [
    {
     "name": "stdout",
     "output_type": "stream",
     "text": [
      "user_id       58703\n",
      "first_date       17\n",
      "region            4\n",
      "device            4\n",
      "dtype: int64\n"
     ]
    }
   ],
   "source": [
    "\n",
    "print(data_users.nunique())\n"
   ]
  },
  {
   "cell_type": "markdown",
   "metadata": {},
   "source": [
    "No hay filas duplicadas en los datasets."
   ]
  },
  {
   "cell_type": "markdown",
   "metadata": {},
   "source": [
    "## Comprobando valores valores ausentes"
   ]
  },
  {
   "cell_type": "code",
   "execution_count": 165,
   "metadata": {},
   "outputs": [
    {
     "name": "stdout",
     "output_type": "stream",
     "text": [
      "user_id            0\n",
      "event_dt           0\n",
      "event_name         0\n",
      "details       363447\n",
      "fecha_hora         0\n",
      "fecha              0\n",
      "dtype: int64\n"
     ]
    }
   ],
   "source": [
    "\n",
    "print(data_eventos.isnull().sum())\n",
    "\n",
    "#data_eventos=data_eventos.drop(\"details\", axis=1) # Borrando columna detalles ya que contiene muchos valores nulos"
   ]
  },
  {
   "cell_type": "markdown",
   "metadata": {},
   "source": [
    "# Análisis de Datos"
   ]
  },
  {
   "cell_type": "markdown",
   "metadata": {},
   "source": [
    "## Filtrando usuarios de la region UE"
   ]
  },
  {
   "cell_type": "code",
   "execution_count": 166,
   "metadata": {},
   "outputs": [],
   "source": [
    "data_users = data_users[data_users[\"region\"] == \"EU\"]"
   ]
  },
  {
   "cell_type": "markdown",
   "metadata": {},
   "source": [
    "## Periodo de tiempo de los datos"
   ]
  },
  {
   "cell_type": "code",
   "execution_count": 167,
   "metadata": {},
   "outputs": [
    {
     "name": "stdout",
     "output_type": "stream",
     "text": [
      "2020-12-07 00:00:33\n",
      "2020-12-30 23:36:33\n"
     ]
    }
   ],
   "source": [
    "print(data_eventos[\"fecha_hora\"].min())\n",
    "print(data_eventos[\"fecha_hora\"].max())"
   ]
  },
  {
   "cell_type": "markdown",
   "metadata": {},
   "source": [
    "Los datos cubren desde 07/12/2020 al 30/12/2020"
   ]
  },
  {
   "cell_type": "markdown",
   "metadata": {},
   "source": [
    "## Usuarios en la prueba A/B"
   ]
  },
  {
   "cell_type": "markdown",
   "metadata": {},
   "source": [
    "## Filtrando usuarios que participaron en un solo test \" recommender_system_test \""
   ]
  },
  {
   "cell_type": "code",
   "execution_count": 168,
   "metadata": {},
   "outputs": [],
   "source": [
    "data_prueba[\"user_id\"].drop_duplicates()\n",
    "\n",
    "data_prueba = data_prueba[data_prueba[\"ab_test\"] == \"recommender_system_test\"]"
   ]
  },
  {
   "cell_type": "code",
   "execution_count": 169,
   "metadata": {},
   "outputs": [
    {
     "name": "stdout",
     "output_type": "stream",
     "text": [
      "<class 'pandas.core.frame.DataFrame'>\n",
      "RangeIndex: 314777 entries, 0 to 314776\n",
      "Data columns (total 9 columns):\n",
      " #   Column      Non-Null Count   Dtype         \n",
      "---  ------      --------------   -----         \n",
      " 0   user_id     314777 non-null  object        \n",
      " 1   event_dt    314777 non-null  object        \n",
      " 2   event_name  314777 non-null  category      \n",
      " 3   details     46687 non-null   float64       \n",
      " 4   fecha_hora  314777 non-null  datetime64[ns]\n",
      " 5   fecha       314777 non-null  object        \n",
      " 6   first_date  314777 non-null  datetime64[ns]\n",
      " 7   region      314777 non-null  object        \n",
      " 8   device      314777 non-null  category      \n",
      "dtypes: category(2), datetime64[ns](2), float64(1), object(4)\n",
      "memory usage: 17.4+ MB\n"
     ]
    }
   ],
   "source": [
    "# Uniendo tablas\n",
    "\n",
    "data_new = data_eventos.merge(data_users, on=\"user_id\")\n",
    "\n",
    "data_new.info()\n"
   ]
  },
  {
   "cell_type": "code",
   "execution_count": 170,
   "metadata": {},
   "outputs": [],
   "source": [
    "data_prueba.groupby(\"group\")[\"user_id\"].count()\n",
    "\n",
    "\n",
    "data_new = data_new.merge(data_prueba, on=\"user_id\")"
   ]
  },
  {
   "cell_type": "markdown",
   "metadata": {},
   "source": [
    "## Filtrando usuarios que estuvieron menos de 14 días"
   ]
  },
  {
   "cell_type": "code",
   "execution_count": 171,
   "metadata": {},
   "outputs": [],
   "source": [
    "data_new[\"days\"] = pd.to_datetime(\n",
    "    data_new['event_dt']) - pd.to_datetime(data_new['first_date'])\n",
    "\n",
    "data_new = data_new[data_new['days'].dt.days < 14]"
   ]
  },
  {
   "cell_type": "markdown",
   "metadata": {},
   "source": [
    "## Distribución de eventos en el tiempo"
   ]
  },
  {
   "cell_type": "code",
   "execution_count": 172,
   "metadata": {},
   "outputs": [
    {
     "data": {
      "image/png": "[encoded data removed]",
      "text/plain": [
       "<Figure size 1000x600 with 1 Axes>"
      ]
     },
     "metadata": {},
     "output_type": "display_data"
    }
   ],
   "source": [
    "# Configuración del gráfico\n",
    "plt.figure(figsize=(10, 6))\n",
    "\n",
    "# Graficar el countplot con el parámetro hue\n",
    "sns.countplot(x='fecha', hue='event_name', data=data_new)\n",
    "\n",
    "# Agregar etiquetas y título\n",
    "plt.xlabel('Fecha')\n",
    "plt.ylabel('Frecuencia')\n",
    "plt.title('Frecuencia de eventos en el tiempo')\n",
    "\n",
    "# Rotar las etiquetas del eje X para mejorar la legibilidad\n",
    "plt.xticks(rotation=45, ha=\"right\")\n",
    "\n",
    "plt.legend(title='Evento')  # Agregar leyenda\n",
    "\n",
    "plt.show()"
   ]
  },
  {
   "cell_type": "markdown",
   "metadata": {},
   "source": [
    "La distribución de los eventos se muestran uniformes a los largo de los días"
   ]
  },
  {
   "cell_type": "markdown",
   "metadata": {},
   "source": [
    "## Conversión en las etapas del embudo"
   ]
  },
  {
   "cell_type": "code",
   "execution_count": 173,
   "metadata": {},
   "outputs": [
    {
     "data": {
      "text/html": [
       "<div>\n",
       "<style scoped>\n",
       "    .dataframe tbody tr th:only-of-type {\n",
       "        vertical-align: middle;\n",
       "    }\n",
       "\n",
       "    .dataframe tbody tr th {\n",
       "        vertical-align: top;\n",
       "    }\n",
       "\n",
       "    .dataframe thead th {\n",
       "        text-align: right;\n",
       "    }\n",
       "</style>\n",
       "<table border=\"1\" class=\"dataframe\">\n",
       "  <thead>\n",
       "    <tr style=\"text-align: right;\">\n",
       "      <th></th>\n",
       "      <th>user_id</th>\n",
       "      <th>event_dt</th>\n",
       "      <th>event_name</th>\n",
       "      <th>details</th>\n",
       "      <th>fecha_hora</th>\n",
       "      <th>fecha</th>\n",
       "      <th>first_date</th>\n",
       "      <th>region</th>\n",
       "      <th>device</th>\n",
       "      <th>group</th>\n",
       "      <th>ab_test</th>\n",
       "      <th>days</th>\n",
       "    </tr>\n",
       "  </thead>\n",
       "  <tbody>\n",
       "    <tr>\n",
       "      <th>0</th>\n",
       "      <td>831887FE7F2D6CBA</td>\n",
       "      <td>2020-12-07 06:50:29</td>\n",
       "      <td>purchase</td>\n",
       "      <td>4.99</td>\n",
       "      <td>2020-12-07 06:50:29</td>\n",
       "      <td>2020-12-07</td>\n",
       "      <td>2020-12-07</td>\n",
       "      <td>EU</td>\n",
       "      <td>Android</td>\n",
       "      <td>A</td>\n",
       "      <td>recommender_system_test</td>\n",
       "      <td>0 days 06:50:29</td>\n",
       "    </tr>\n",
       "    <tr>\n",
       "      <th>1</th>\n",
       "      <td>831887FE7F2D6CBA</td>\n",
       "      <td>2020-12-09 02:19:17</td>\n",
       "      <td>purchase</td>\n",
       "      <td>99.99</td>\n",
       "      <td>2020-12-09 02:19:17</td>\n",
       "      <td>2020-12-09</td>\n",
       "      <td>2020-12-07</td>\n",
       "      <td>EU</td>\n",
       "      <td>Android</td>\n",
       "      <td>A</td>\n",
       "      <td>recommender_system_test</td>\n",
       "      <td>2 days 02:19:17</td>\n",
       "    </tr>\n",
       "    <tr>\n",
       "      <th>2</th>\n",
       "      <td>831887FE7F2D6CBA</td>\n",
       "      <td>2020-12-07 06:50:30</td>\n",
       "      <td>product_cart</td>\n",
       "      <td>NaN</td>\n",
       "      <td>2020-12-07 06:50:30</td>\n",
       "      <td>2020-12-07</td>\n",
       "      <td>2020-12-07</td>\n",
       "      <td>EU</td>\n",
       "      <td>Android</td>\n",
       "      <td>A</td>\n",
       "      <td>recommender_system_test</td>\n",
       "      <td>0 days 06:50:30</td>\n",
       "    </tr>\n",
       "    <tr>\n",
       "      <th>3</th>\n",
       "      <td>831887FE7F2D6CBA</td>\n",
       "      <td>2020-12-08 10:52:27</td>\n",
       "      <td>product_cart</td>\n",
       "      <td>NaN</td>\n",
       "      <td>2020-12-08 10:52:27</td>\n",
       "      <td>2020-12-08</td>\n",
       "      <td>2020-12-07</td>\n",
       "      <td>EU</td>\n",
       "      <td>Android</td>\n",
       "      <td>A</td>\n",
       "      <td>recommender_system_test</td>\n",
       "      <td>1 days 10:52:27</td>\n",
       "    </tr>\n",
       "    <tr>\n",
       "      <th>4</th>\n",
       "      <td>831887FE7F2D6CBA</td>\n",
       "      <td>2020-12-09 02:19:17</td>\n",
       "      <td>product_cart</td>\n",
       "      <td>NaN</td>\n",
       "      <td>2020-12-09 02:19:17</td>\n",
       "      <td>2020-12-09</td>\n",
       "      <td>2020-12-07</td>\n",
       "      <td>EU</td>\n",
       "      <td>Android</td>\n",
       "      <td>A</td>\n",
       "      <td>recommender_system_test</td>\n",
       "      <td>2 days 02:19:17</td>\n",
       "    </tr>\n",
       "    <tr>\n",
       "      <th>...</th>\n",
       "      <td>...</td>\n",
       "      <td>...</td>\n",
       "      <td>...</td>\n",
       "      <td>...</td>\n",
       "      <td>...</td>\n",
       "      <td>...</td>\n",
       "      <td>...</td>\n",
       "      <td>...</td>\n",
       "      <td>...</td>\n",
       "      <td>...</td>\n",
       "      <td>...</td>\n",
       "      <td>...</td>\n",
       "    </tr>\n",
       "    <tr>\n",
       "      <th>22669</th>\n",
       "      <td>1484BBF124DB1B18</td>\n",
       "      <td>2020-12-27 10:53:34</td>\n",
       "      <td>login</td>\n",
       "      <td>NaN</td>\n",
       "      <td>2020-12-27 10:53:34</td>\n",
       "      <td>2020-12-27</td>\n",
       "      <td>2020-12-21</td>\n",
       "      <td>EU</td>\n",
       "      <td>PC</td>\n",
       "      <td>A</td>\n",
       "      <td>recommender_system_test</td>\n",
       "      <td>6 days 10:53:34</td>\n",
       "    </tr>\n",
       "    <tr>\n",
       "      <th>22670</th>\n",
       "      <td>BEF16764A13AEC34</td>\n",
       "      <td>2020-12-21 03:49:49</td>\n",
       "      <td>login</td>\n",
       "      <td>NaN</td>\n",
       "      <td>2020-12-21 03:49:49</td>\n",
       "      <td>2020-12-21</td>\n",
       "      <td>2020-12-21</td>\n",
       "      <td>EU</td>\n",
       "      <td>PC</td>\n",
       "      <td>B</td>\n",
       "      <td>recommender_system_test</td>\n",
       "      <td>0 days 03:49:49</td>\n",
       "    </tr>\n",
       "    <tr>\n",
       "      <th>22671</th>\n",
       "      <td>BEF16764A13AEC34</td>\n",
       "      <td>2020-12-22 18:52:25</td>\n",
       "      <td>login</td>\n",
       "      <td>NaN</td>\n",
       "      <td>2020-12-22 18:52:25</td>\n",
       "      <td>2020-12-22</td>\n",
       "      <td>2020-12-21</td>\n",
       "      <td>EU</td>\n",
       "      <td>PC</td>\n",
       "      <td>B</td>\n",
       "      <td>recommender_system_test</td>\n",
       "      <td>1 days 18:52:25</td>\n",
       "    </tr>\n",
       "    <tr>\n",
       "      <th>22672</th>\n",
       "      <td>BEF16764A13AEC34</td>\n",
       "      <td>2020-12-24 22:11:00</td>\n",
       "      <td>login</td>\n",
       "      <td>NaN</td>\n",
       "      <td>2020-12-24 22:11:00</td>\n",
       "      <td>2020-12-24</td>\n",
       "      <td>2020-12-21</td>\n",
       "      <td>EU</td>\n",
       "      <td>PC</td>\n",
       "      <td>B</td>\n",
       "      <td>recommender_system_test</td>\n",
       "      <td>3 days 22:11:00</td>\n",
       "    </tr>\n",
       "    <tr>\n",
       "      <th>22673</th>\n",
       "      <td>23DDD27AC3FEFA63</td>\n",
       "      <td>2020-12-21 02:51:45</td>\n",
       "      <td>login</td>\n",
       "      <td>NaN</td>\n",
       "      <td>2020-12-21 02:51:45</td>\n",
       "      <td>2020-12-21</td>\n",
       "      <td>2020-12-21</td>\n",
       "      <td>EU</td>\n",
       "      <td>PC</td>\n",
       "      <td>A</td>\n",
       "      <td>recommender_system_test</td>\n",
       "      <td>0 days 02:51:45</td>\n",
       "    </tr>\n",
       "  </tbody>\n",
       "</table>\n",
       "<p>21952 rows × 12 columns</p>\n",
       "</div>"
      ],
      "text/plain": [
       "                user_id             event_dt    event_name  details  \\\n",
       "0      831887FE7F2D6CBA  2020-12-07 06:50:29      purchase     4.99   \n",
       "1      831887FE7F2D6CBA  2020-12-09 02:19:17      purchase    99.99   \n",
       "2      831887FE7F2D6CBA  2020-12-07 06:50:30  product_cart      NaN   \n",
       "3      831887FE7F2D6CBA  2020-12-08 10:52:27  product_cart      NaN   \n",
       "4      831887FE7F2D6CBA  2020-12-09 02:19:17  product_cart      NaN   \n",
       "...                 ...                  ...           ...      ...   \n",
       "22669  1484BBF124DB1B18  2020-12-27 10:53:34         login      NaN   \n",
       "22670  BEF16764A13AEC34  2020-12-21 03:49:49         login      NaN   \n",
       "22671  BEF16764A13AEC34  2020-12-22 18:52:25         login      NaN   \n",
       "22672  BEF16764A13AEC34  2020-12-24 22:11:00         login      NaN   \n",
       "22673  23DDD27AC3FEFA63  2020-12-21 02:51:45         login      NaN   \n",
       "\n",
       "               fecha_hora       fecha first_date region   device group  \\\n",
       "0     2020-12-07 06:50:29  2020-12-07 2020-12-07     EU  Android     A   \n",
       "1     2020-12-09 02:19:17  2020-12-09 2020-12-07     EU  Android     A   \n",
       "2     2020-12-07 06:50:30  2020-12-07 2020-12-07     EU  Android     A   \n",
       "3     2020-12-08 10:52:27  2020-12-08 2020-12-07     EU  Android     A   \n",
       "4     2020-12-09 02:19:17  2020-12-09 2020-12-07     EU  Android     A   \n",
       "...                   ...         ...        ...    ...      ...   ...   \n",
       "22669 2020-12-27 10:53:34  2020-12-27 2020-12-21     EU       PC     A   \n",
       "22670 2020-12-21 03:49:49  2020-12-21 2020-12-21     EU       PC     B   \n",
       "22671 2020-12-22 18:52:25  2020-12-22 2020-12-21     EU       PC     B   \n",
       "22672 2020-12-24 22:11:00  2020-12-24 2020-12-21     EU       PC     B   \n",
       "22673 2020-12-21 02:51:45  2020-12-21 2020-12-21     EU       PC     A   \n",
       "\n",
       "                       ab_test            days  \n",
       "0      recommender_system_test 0 days 06:50:29  \n",
       "1      recommender_system_test 2 days 02:19:17  \n",
       "2      recommender_system_test 0 days 06:50:30  \n",
       "3      recommender_system_test 1 days 10:52:27  \n",
       "4      recommender_system_test 2 days 02:19:17  \n",
       "...                        ...             ...  \n",
       "22669  recommender_system_test 6 days 10:53:34  \n",
       "22670  recommender_system_test 0 days 03:49:49  \n",
       "22671  recommender_system_test 1 days 18:52:25  \n",
       "22672  recommender_system_test 3 days 22:11:00  \n",
       "22673  recommender_system_test 0 days 02:51:45  \n",
       "\n",
       "[21952 rows x 12 columns]"
      ]
     },
     "metadata": {},
     "output_type": "display_data"
    }
   ],
   "source": [
    "display(data_new)"
   ]
  },
  {
   "cell_type": "code",
   "execution_count": 174,
   "metadata": {},
   "outputs": [],
   "source": [
    "# Creando columna con el primer evento de cada nuevo usuario\n",
    "\n",
    "min_event_datetime = data_new.groupby(['user_id'])['fecha_hora'].min()\n",
    "\n",
    "min_event_datetime.name = 'min_event_datetime'\n",
    "\n",
    "# Agregando columna con el primer evento de cada usuario\n",
    "\n",
    "data_new= data_new.join(min_event_datetime, on='user_id')"
   ]
  },
  {
   "cell_type": "code",
   "execution_count": 175,
   "metadata": {},
   "outputs": [
    {
     "data": {
      "text/html": [
       "<div>\n",
       "<style scoped>\n",
       "    .dataframe tbody tr th:only-of-type {\n",
       "        vertical-align: middle;\n",
       "    }\n",
       "\n",
       "    .dataframe tbody tr th {\n",
       "        vertical-align: top;\n",
       "    }\n",
       "\n",
       "    .dataframe thead th {\n",
       "        text-align: right;\n",
       "    }\n",
       "</style>\n",
       "<table border=\"1\" class=\"dataframe\">\n",
       "  <thead>\n",
       "    <tr style=\"text-align: right;\">\n",
       "      <th></th>\n",
       "      <th>user_id</th>\n",
       "      <th>event_dt</th>\n",
       "      <th>event_name</th>\n",
       "      <th>details</th>\n",
       "      <th>fecha_hora</th>\n",
       "      <th>fecha</th>\n",
       "      <th>first_date</th>\n",
       "      <th>region</th>\n",
       "      <th>device</th>\n",
       "      <th>group</th>\n",
       "      <th>ab_test</th>\n",
       "      <th>days</th>\n",
       "      <th>min_event_datetime</th>\n",
       "    </tr>\n",
       "  </thead>\n",
       "  <tbody>\n",
       "    <tr>\n",
       "      <th>0</th>\n",
       "      <td>831887FE7F2D6CBA</td>\n",
       "      <td>2020-12-07 06:50:29</td>\n",
       "      <td>purchase</td>\n",
       "      <td>4.99</td>\n",
       "      <td>2020-12-07 06:50:29</td>\n",
       "      <td>2020-12-07</td>\n",
       "      <td>2020-12-07</td>\n",
       "      <td>EU</td>\n",
       "      <td>Android</td>\n",
       "      <td>A</td>\n",
       "      <td>recommender_system_test</td>\n",
       "      <td>0 days 06:50:29</td>\n",
       "      <td>2020-12-07 06:50:29</td>\n",
       "    </tr>\n",
       "    <tr>\n",
       "      <th>1</th>\n",
       "      <td>831887FE7F2D6CBA</td>\n",
       "      <td>2020-12-09 02:19:17</td>\n",
       "      <td>purchase</td>\n",
       "      <td>99.99</td>\n",
       "      <td>2020-12-09 02:19:17</td>\n",
       "      <td>2020-12-09</td>\n",
       "      <td>2020-12-07</td>\n",
       "      <td>EU</td>\n",
       "      <td>Android</td>\n",
       "      <td>A</td>\n",
       "      <td>recommender_system_test</td>\n",
       "      <td>2 days 02:19:17</td>\n",
       "      <td>2020-12-07 06:50:29</td>\n",
       "    </tr>\n",
       "    <tr>\n",
       "      <th>2</th>\n",
       "      <td>831887FE7F2D6CBA</td>\n",
       "      <td>2020-12-07 06:50:30</td>\n",
       "      <td>product_cart</td>\n",
       "      <td>NaN</td>\n",
       "      <td>2020-12-07 06:50:30</td>\n",
       "      <td>2020-12-07</td>\n",
       "      <td>2020-12-07</td>\n",
       "      <td>EU</td>\n",
       "      <td>Android</td>\n",
       "      <td>A</td>\n",
       "      <td>recommender_system_test</td>\n",
       "      <td>0 days 06:50:30</td>\n",
       "      <td>2020-12-07 06:50:29</td>\n",
       "    </tr>\n",
       "    <tr>\n",
       "      <th>3</th>\n",
       "      <td>831887FE7F2D6CBA</td>\n",
       "      <td>2020-12-08 10:52:27</td>\n",
       "      <td>product_cart</td>\n",
       "      <td>NaN</td>\n",
       "      <td>2020-12-08 10:52:27</td>\n",
       "      <td>2020-12-08</td>\n",
       "      <td>2020-12-07</td>\n",
       "      <td>EU</td>\n",
       "      <td>Android</td>\n",
       "      <td>A</td>\n",
       "      <td>recommender_system_test</td>\n",
       "      <td>1 days 10:52:27</td>\n",
       "      <td>2020-12-07 06:50:29</td>\n",
       "    </tr>\n",
       "    <tr>\n",
       "      <th>4</th>\n",
       "      <td>831887FE7F2D6CBA</td>\n",
       "      <td>2020-12-09 02:19:17</td>\n",
       "      <td>product_cart</td>\n",
       "      <td>NaN</td>\n",
       "      <td>2020-12-09 02:19:17</td>\n",
       "      <td>2020-12-09</td>\n",
       "      <td>2020-12-07</td>\n",
       "      <td>EU</td>\n",
       "      <td>Android</td>\n",
       "      <td>A</td>\n",
       "      <td>recommender_system_test</td>\n",
       "      <td>2 days 02:19:17</td>\n",
       "      <td>2020-12-07 06:50:29</td>\n",
       "    </tr>\n",
       "    <tr>\n",
       "      <th>...</th>\n",
       "      <td>...</td>\n",
       "      <td>...</td>\n",
       "      <td>...</td>\n",
       "      <td>...</td>\n",
       "      <td>...</td>\n",
       "      <td>...</td>\n",
       "      <td>...</td>\n",
       "      <td>...</td>\n",
       "      <td>...</td>\n",
       "      <td>...</td>\n",
       "      <td>...</td>\n",
       "      <td>...</td>\n",
       "      <td>...</td>\n",
       "    </tr>\n",
       "    <tr>\n",
       "      <th>22669</th>\n",
       "      <td>1484BBF124DB1B18</td>\n",
       "      <td>2020-12-27 10:53:34</td>\n",
       "      <td>login</td>\n",
       "      <td>NaN</td>\n",
       "      <td>2020-12-27 10:53:34</td>\n",
       "      <td>2020-12-27</td>\n",
       "      <td>2020-12-21</td>\n",
       "      <td>EU</td>\n",
       "      <td>PC</td>\n",
       "      <td>A</td>\n",
       "      <td>recommender_system_test</td>\n",
       "      <td>6 days 10:53:34</td>\n",
       "      <td>2020-12-21 17:51:44</td>\n",
       "    </tr>\n",
       "    <tr>\n",
       "      <th>22670</th>\n",
       "      <td>BEF16764A13AEC34</td>\n",
       "      <td>2020-12-21 03:49:49</td>\n",
       "      <td>login</td>\n",
       "      <td>NaN</td>\n",
       "      <td>2020-12-21 03:49:49</td>\n",
       "      <td>2020-12-21</td>\n",
       "      <td>2020-12-21</td>\n",
       "      <td>EU</td>\n",
       "      <td>PC</td>\n",
       "      <td>B</td>\n",
       "      <td>recommender_system_test</td>\n",
       "      <td>0 days 03:49:49</td>\n",
       "      <td>2020-12-21 03:49:49</td>\n",
       "    </tr>\n",
       "    <tr>\n",
       "      <th>22671</th>\n",
       "      <td>BEF16764A13AEC34</td>\n",
       "      <td>2020-12-22 18:52:25</td>\n",
       "      <td>login</td>\n",
       "      <td>NaN</td>\n",
       "      <td>2020-12-22 18:52:25</td>\n",
       "      <td>2020-12-22</td>\n",
       "      <td>2020-12-21</td>\n",
       "      <td>EU</td>\n",
       "      <td>PC</td>\n",
       "      <td>B</td>\n",
       "      <td>recommender_system_test</td>\n",
       "      <td>1 days 18:52:25</td>\n",
       "      <td>2020-12-21 03:49:49</td>\n",
       "    </tr>\n",
       "    <tr>\n",
       "      <th>22672</th>\n",
       "      <td>BEF16764A13AEC34</td>\n",
       "      <td>2020-12-24 22:11:00</td>\n",
       "      <td>login</td>\n",
       "      <td>NaN</td>\n",
       "      <td>2020-12-24 22:11:00</td>\n",
       "      <td>2020-12-24</td>\n",
       "      <td>2020-12-21</td>\n",
       "      <td>EU</td>\n",
       "      <td>PC</td>\n",
       "      <td>B</td>\n",
       "      <td>recommender_system_test</td>\n",
       "      <td>3 days 22:11:00</td>\n",
       "      <td>2020-12-21 03:49:49</td>\n",
       "    </tr>\n",
       "    <tr>\n",
       "      <th>22673</th>\n",
       "      <td>23DDD27AC3FEFA63</td>\n",
       "      <td>2020-12-21 02:51:45</td>\n",
       "      <td>login</td>\n",
       "      <td>NaN</td>\n",
       "      <td>2020-12-21 02:51:45</td>\n",
       "      <td>2020-12-21</td>\n",
       "      <td>2020-12-21</td>\n",
       "      <td>EU</td>\n",
       "      <td>PC</td>\n",
       "      <td>A</td>\n",
       "      <td>recommender_system_test</td>\n",
       "      <td>0 days 02:51:45</td>\n",
       "      <td>2020-12-21 02:51:45</td>\n",
       "    </tr>\n",
       "  </tbody>\n",
       "</table>\n",
       "<p>21952 rows × 13 columns</p>\n",
       "</div>"
      ],
      "text/plain": [
       "                user_id             event_dt    event_name  details  \\\n",
       "0      831887FE7F2D6CBA  2020-12-07 06:50:29      purchase     4.99   \n",
       "1      831887FE7F2D6CBA  2020-12-09 02:19:17      purchase    99.99   \n",
       "2      831887FE7F2D6CBA  2020-12-07 06:50:30  product_cart      NaN   \n",
       "3      831887FE7F2D6CBA  2020-12-08 10:52:27  product_cart      NaN   \n",
       "4      831887FE7F2D6CBA  2020-12-09 02:19:17  product_cart      NaN   \n",
       "...                 ...                  ...           ...      ...   \n",
       "22669  1484BBF124DB1B18  2020-12-27 10:53:34         login      NaN   \n",
       "22670  BEF16764A13AEC34  2020-12-21 03:49:49         login      NaN   \n",
       "22671  BEF16764A13AEC34  2020-12-22 18:52:25         login      NaN   \n",
       "22672  BEF16764A13AEC34  2020-12-24 22:11:00         login      NaN   \n",
       "22673  23DDD27AC3FEFA63  2020-12-21 02:51:45         login      NaN   \n",
       "\n",
       "               fecha_hora       fecha first_date region   device group  \\\n",
       "0     2020-12-07 06:50:29  2020-12-07 2020-12-07     EU  Android     A   \n",
       "1     2020-12-09 02:19:17  2020-12-09 2020-12-07     EU  Android     A   \n",
       "2     2020-12-07 06:50:30  2020-12-07 2020-12-07     EU  Android     A   \n",
       "3     2020-12-08 10:52:27  2020-12-08 2020-12-07     EU  Android     A   \n",
       "4     2020-12-09 02:19:17  2020-12-09 2020-12-07     EU  Android     A   \n",
       "...                   ...         ...        ...    ...      ...   ...   \n",
       "22669 2020-12-27 10:53:34  2020-12-27 2020-12-21     EU       PC     A   \n",
       "22670 2020-12-21 03:49:49  2020-12-21 2020-12-21     EU       PC     B   \n",
       "22671 2020-12-22 18:52:25  2020-12-22 2020-12-21     EU       PC     B   \n",
       "22672 2020-12-24 22:11:00  2020-12-24 2020-12-21     EU       PC     B   \n",
       "22673 2020-12-21 02:51:45  2020-12-21 2020-12-21     EU       PC     A   \n",
       "\n",
       "                       ab_test            days  min_event_datetime  \n",
       "0      recommender_system_test 0 days 06:50:29 2020-12-07 06:50:29  \n",
       "1      recommender_system_test 2 days 02:19:17 2020-12-07 06:50:29  \n",
       "2      recommender_system_test 0 days 06:50:30 2020-12-07 06:50:29  \n",
       "3      recommender_system_test 1 days 10:52:27 2020-12-07 06:50:29  \n",
       "4      recommender_system_test 2 days 02:19:17 2020-12-07 06:50:29  \n",
       "...                        ...             ...                 ...  \n",
       "22669  recommender_system_test 6 days 10:53:34 2020-12-21 17:51:44  \n",
       "22670  recommender_system_test 0 days 03:49:49 2020-12-21 03:49:49  \n",
       "22671  recommender_system_test 1 days 18:52:25 2020-12-21 03:49:49  \n",
       "22672  recommender_system_test 3 days 22:11:00 2020-12-21 03:49:49  \n",
       "22673  recommender_system_test 0 days 02:51:45 2020-12-21 02:51:45  \n",
       "\n",
       "[21952 rows x 13 columns]"
      ]
     },
     "execution_count": 175,
     "metadata": {},
     "output_type": "execute_result"
    }
   ],
   "source": [
    "data_new"
   ]
  },
  {
   "cell_type": "code",
   "execution_count": 176,
   "metadata": {},
   "outputs": [
    {
     "data": {
      "text/html": [
       "<div>\n",
       "<style scoped>\n",
       "    .dataframe tbody tr th:only-of-type {\n",
       "        vertical-align: middle;\n",
       "    }\n",
       "\n",
       "    .dataframe tbody tr th {\n",
       "        vertical-align: top;\n",
       "    }\n",
       "\n",
       "    .dataframe thead th {\n",
       "        text-align: right;\n",
       "    }\n",
       "</style>\n",
       "<table border=\"1\" class=\"dataframe\">\n",
       "  <thead>\n",
       "    <tr style=\"text-align: right;\">\n",
       "      <th></th>\n",
       "      <th>name</th>\n",
       "      <th>regions</th>\n",
       "      <th>start_dt</th>\n",
       "      <th>finish_dt</th>\n",
       "    </tr>\n",
       "  </thead>\n",
       "  <tbody>\n",
       "    <tr>\n",
       "      <th>0</th>\n",
       "      <td>Christmas&amp;New Year Promo</td>\n",
       "      <td>EU, N.America</td>\n",
       "      <td>2020-12-25</td>\n",
       "      <td>2021-01-03</td>\n",
       "    </tr>\n",
       "    <tr>\n",
       "      <th>1</th>\n",
       "      <td>St. Valentine's Day Giveaway</td>\n",
       "      <td>EU, CIS, APAC, N.America</td>\n",
       "      <td>2020-02-14</td>\n",
       "      <td>2020-02-16</td>\n",
       "    </tr>\n",
       "    <tr>\n",
       "      <th>2</th>\n",
       "      <td>St. Patric's Day Promo</td>\n",
       "      <td>EU, N.America</td>\n",
       "      <td>2020-03-17</td>\n",
       "      <td>2020-03-19</td>\n",
       "    </tr>\n",
       "    <tr>\n",
       "      <th>3</th>\n",
       "      <td>Easter Promo</td>\n",
       "      <td>EU, CIS, APAC, N.America</td>\n",
       "      <td>2020-04-12</td>\n",
       "      <td>2020-04-19</td>\n",
       "    </tr>\n",
       "    <tr>\n",
       "      <th>4</th>\n",
       "      <td>4th of July Promo</td>\n",
       "      <td>N.America</td>\n",
       "      <td>2020-07-04</td>\n",
       "      <td>2020-07-11</td>\n",
       "    </tr>\n",
       "    <tr>\n",
       "      <th>5</th>\n",
       "      <td>Black Friday Ads Campaign</td>\n",
       "      <td>EU, CIS, APAC, N.America</td>\n",
       "      <td>2020-11-26</td>\n",
       "      <td>2020-12-01</td>\n",
       "    </tr>\n",
       "    <tr>\n",
       "      <th>6</th>\n",
       "      <td>Chinese New Year Promo</td>\n",
       "      <td>APAC</td>\n",
       "      <td>2020-01-25</td>\n",
       "      <td>2020-02-07</td>\n",
       "    </tr>\n",
       "    <tr>\n",
       "      <th>7</th>\n",
       "      <td>Labor day (May 1st) Ads Campaign</td>\n",
       "      <td>EU, CIS, APAC</td>\n",
       "      <td>2020-05-01</td>\n",
       "      <td>2020-05-03</td>\n",
       "    </tr>\n",
       "    <tr>\n",
       "      <th>8</th>\n",
       "      <td>International Women's Day Promo</td>\n",
       "      <td>EU, CIS, APAC</td>\n",
       "      <td>2020-03-08</td>\n",
       "      <td>2020-03-10</td>\n",
       "    </tr>\n",
       "    <tr>\n",
       "      <th>9</th>\n",
       "      <td>Victory Day CIS (May 9th) Event</td>\n",
       "      <td>CIS</td>\n",
       "      <td>2020-05-09</td>\n",
       "      <td>2020-05-11</td>\n",
       "    </tr>\n",
       "    <tr>\n",
       "      <th>10</th>\n",
       "      <td>CIS New Year Gift Lottery</td>\n",
       "      <td>CIS</td>\n",
       "      <td>2020-12-30</td>\n",
       "      <td>2021-01-07</td>\n",
       "    </tr>\n",
       "    <tr>\n",
       "      <th>11</th>\n",
       "      <td>Dragon Boat Festival Giveaway</td>\n",
       "      <td>APAC</td>\n",
       "      <td>2020-06-25</td>\n",
       "      <td>2020-07-01</td>\n",
       "    </tr>\n",
       "    <tr>\n",
       "      <th>12</th>\n",
       "      <td>Single's Day Gift Promo</td>\n",
       "      <td>APAC</td>\n",
       "      <td>2020-11-11</td>\n",
       "      <td>2020-11-12</td>\n",
       "    </tr>\n",
       "    <tr>\n",
       "      <th>13</th>\n",
       "      <td>Chinese Moon Festival</td>\n",
       "      <td>APAC</td>\n",
       "      <td>2020-10-01</td>\n",
       "      <td>2020-10-07</td>\n",
       "    </tr>\n",
       "  </tbody>\n",
       "</table>\n",
       "</div>"
      ],
      "text/plain": [
       "                                name                   regions   start_dt  \\\n",
       "0           Christmas&New Year Promo             EU, N.America 2020-12-25   \n",
       "1       St. Valentine's Day Giveaway  EU, CIS, APAC, N.America 2020-02-14   \n",
       "2             St. Patric's Day Promo             EU, N.America 2020-03-17   \n",
       "3                       Easter Promo  EU, CIS, APAC, N.America 2020-04-12   \n",
       "4                  4th of July Promo                 N.America 2020-07-04   \n",
       "5          Black Friday Ads Campaign  EU, CIS, APAC, N.America 2020-11-26   \n",
       "6             Chinese New Year Promo                      APAC 2020-01-25   \n",
       "7   Labor day (May 1st) Ads Campaign             EU, CIS, APAC 2020-05-01   \n",
       "8    International Women's Day Promo             EU, CIS, APAC 2020-03-08   \n",
       "9    Victory Day CIS (May 9th) Event                       CIS 2020-05-09   \n",
       "10         CIS New Year Gift Lottery                       CIS 2020-12-30   \n",
       "11     Dragon Boat Festival Giveaway                      APAC 2020-06-25   \n",
       "12           Single's Day Gift Promo                      APAC 2020-11-11   \n",
       "13             Chinese Moon Festival                      APAC 2020-10-01   \n",
       "\n",
       "    finish_dt  \n",
       "0  2021-01-03  \n",
       "1  2020-02-16  \n",
       "2  2020-03-19  \n",
       "3  2020-04-19  \n",
       "4  2020-07-11  \n",
       "5  2020-12-01  \n",
       "6  2020-02-07  \n",
       "7  2020-05-03  \n",
       "8  2020-03-10  \n",
       "9  2020-05-11  \n",
       "10 2021-01-07  \n",
       "11 2020-07-01  \n",
       "12 2020-11-12  \n",
       "13 2020-10-07  "
      ]
     },
     "execution_count": 176,
     "metadata": {},
     "output_type": "execute_result"
    }
   ],
   "source": [
    "Calendario_Event"
   ]
  },
  {
   "cell_type": "markdown",
   "metadata": {},
   "source": [
    "## Estudiar el embudo de eventos\n"
   ]
  },
  {
   "cell_type": "code",
   "execution_count": 177,
   "metadata": {},
   "outputs": [
    {
     "name": "stderr",
     "output_type": "stream",
     "text": [
      "C:\\Users\\LUCIA\\AppData\\Local\\Temp\\ipykernel_13600\\268732816.py:1: FutureWarning: The default of observed=False is deprecated and will be changed to True in a future version of pandas. Pass observed=False to retain current behavior or observed=True to adopt the future default and silence this warning.\n",
      "  data_new.groupby(\"event_name\")[\"user_id\"].count(\n"
     ]
    },
    {
     "data": {
      "text/html": [
       "<div>\n",
       "<style scoped>\n",
       "    .dataframe tbody tr th:only-of-type {\n",
       "        vertical-align: middle;\n",
       "    }\n",
       "\n",
       "    .dataframe tbody tr th {\n",
       "        vertical-align: top;\n",
       "    }\n",
       "\n",
       "    .dataframe thead th {\n",
       "        text-align: right;\n",
       "    }\n",
       "</style>\n",
       "<table border=\"1\" class=\"dataframe\">\n",
       "  <thead>\n",
       "    <tr style=\"text-align: right;\">\n",
       "      <th></th>\n",
       "      <th>event_name</th>\n",
       "      <th>user_id</th>\n",
       "    </tr>\n",
       "  </thead>\n",
       "  <tbody>\n",
       "    <tr>\n",
       "      <th>0</th>\n",
       "      <td>login</td>\n",
       "      <td>9919</td>\n",
       "    </tr>\n",
       "    <tr>\n",
       "      <th>1</th>\n",
       "      <td>product_page</td>\n",
       "      <td>6132</td>\n",
       "    </tr>\n",
       "    <tr>\n",
       "      <th>2</th>\n",
       "      <td>purchase</td>\n",
       "      <td>2998</td>\n",
       "    </tr>\n",
       "    <tr>\n",
       "      <th>3</th>\n",
       "      <td>product_cart</td>\n",
       "      <td>2903</td>\n",
       "    </tr>\n",
       "  </tbody>\n",
       "</table>\n",
       "</div>"
      ],
      "text/plain": [
       "     event_name  user_id\n",
       "0         login     9919\n",
       "1  product_page     6132\n",
       "2      purchase     2998\n",
       "3  product_cart     2903"
      ]
     },
     "execution_count": 177,
     "metadata": {},
     "output_type": "execute_result"
    }
   ],
   "source": [
    "\n",
    "data_new.groupby(\"event_name\")[\"user_id\"].count(\n",
    ").sort_values(ascending=False).reset_index()"
   ]
  },
  {
   "cell_type": "markdown",
   "metadata": {},
   "source": [
    "## Histograma por fecha y hora"
   ]
  },
  {
   "cell_type": "code",
   "execution_count": 178,
   "metadata": {},
   "outputs": [
    {
     "data": {
      "image/png": "[encoded data removed]",
      "text/plain": [
       "<Figure size 640x480 with 1 Axes>"
      ]
     },
     "metadata": {},
     "output_type": "display_data"
    }
   ],
   "source": [
    "plt.hist(data_new[\"fecha_hora\"])\n",
    "\n",
    "# Agregar etiquetas y título\n",
    "plt.xlabel('Fecha y hora de evento')\n",
    "plt.ylabel('Frecuencia')\n",
    "plt.title('Frecuencia de eventos en el tiempo')\n",
    "plt.xticks(rotation=45)\n",
    "\n",
    "plt.show()"
   ]
  },
  {
   "cell_type": "markdown",
   "metadata": {},
   "source": [
    "## Cantidad de usuarios por evento"
   ]
  },
  {
   "cell_type": "code",
   "execution_count": 179,
   "metadata": {},
   "outputs": [
    {
     "name": "stderr",
     "output_type": "stream",
     "text": [
      "C:\\Users\\LUCIA\\AppData\\Local\\Temp\\ipykernel_13600\\2534558857.py:1: FutureWarning: The default of observed=False is deprecated and will be changed to True in a future version of pandas. Pass observed=False to retain current behavior or observed=True to adopt the future default and silence this warning.\n",
      "  data_resumen = data_new .groupby(\"event_name\")[\"user_id\"].nunique(\n"
     ]
    },
    {
     "data": {
      "text/html": [
       "<div>\n",
       "<style scoped>\n",
       "    .dataframe tbody tr th:only-of-type {\n",
       "        vertical-align: middle;\n",
       "    }\n",
       "\n",
       "    .dataframe tbody tr th {\n",
       "        vertical-align: top;\n",
       "    }\n",
       "\n",
       "    .dataframe thead th {\n",
       "        text-align: right;\n",
       "    }\n",
       "</style>\n",
       "<table border=\"1\" class=\"dataframe\">\n",
       "  <thead>\n",
       "    <tr style=\"text-align: right;\">\n",
       "      <th></th>\n",
       "      <th>event_name</th>\n",
       "      <th>user_id</th>\n",
       "    </tr>\n",
       "  </thead>\n",
       "  <tbody>\n",
       "    <tr>\n",
       "      <th>0</th>\n",
       "      <td>login</td>\n",
       "      <td>3480</td>\n",
       "    </tr>\n",
       "    <tr>\n",
       "      <th>1</th>\n",
       "      <td>product_page</td>\n",
       "      <td>2178</td>\n",
       "    </tr>\n",
       "    <tr>\n",
       "      <th>2</th>\n",
       "      <td>purchase</td>\n",
       "      <td>1082</td>\n",
       "    </tr>\n",
       "    <tr>\n",
       "      <th>3</th>\n",
       "      <td>product_cart</td>\n",
       "      <td>1026</td>\n",
       "    </tr>\n",
       "  </tbody>\n",
       "</table>\n",
       "</div>"
      ],
      "text/plain": [
       "     event_name  user_id\n",
       "0         login     3480\n",
       "1  product_page     2178\n",
       "2      purchase     1082\n",
       "3  product_cart     1026"
      ]
     },
     "metadata": {},
     "output_type": "display_data"
    }
   ],
   "source": [
    "data_resumen = data_new .groupby(\"event_name\")[\"user_id\"].nunique(\n",
    ").sort_values(ascending=False).reset_index()\n",
    "display(data_resumen)"
   ]
  },
  {
   "cell_type": "code",
   "execution_count": 180,
   "metadata": {},
   "outputs": [
    {
     "data": {
      "text/html": [
       "<div>\n",
       "<style scoped>\n",
       "    .dataframe tbody tr th:only-of-type {\n",
       "        vertical-align: middle;\n",
       "    }\n",
       "\n",
       "    .dataframe tbody tr th {\n",
       "        vertical-align: top;\n",
       "    }\n",
       "\n",
       "    .dataframe thead th {\n",
       "        text-align: right;\n",
       "    }\n",
       "</style>\n",
       "<table border=\"1\" class=\"dataframe\">\n",
       "  <thead>\n",
       "    <tr style=\"text-align: right;\">\n",
       "      <th></th>\n",
       "      <th>event_name</th>\n",
       "      <th>user_id</th>\n",
       "      <th>n_id_prev</th>\n",
       "      <th>variación</th>\n",
       "      <th>conversion</th>\n",
       "      <th>ratio</th>\n",
       "    </tr>\n",
       "  </thead>\n",
       "  <tbody>\n",
       "    <tr>\n",
       "      <th>0</th>\n",
       "      <td>login</td>\n",
       "      <td>3480</td>\n",
       "      <td>NaN</td>\n",
       "      <td>NaN</td>\n",
       "      <td>NaN</td>\n",
       "      <td>NaN</td>\n",
       "    </tr>\n",
       "    <tr>\n",
       "      <th>1</th>\n",
       "      <td>product_page</td>\n",
       "      <td>2178</td>\n",
       "      <td>3480.0</td>\n",
       "      <td>0.625862</td>\n",
       "      <td>0.625862</td>\n",
       "      <td>0.374138</td>\n",
       "    </tr>\n",
       "    <tr>\n",
       "      <th>2</th>\n",
       "      <td>purchase</td>\n",
       "      <td>1082</td>\n",
       "      <td>2178.0</td>\n",
       "      <td>0.496786</td>\n",
       "      <td>0.496786</td>\n",
       "      <td>0.503214</td>\n",
       "    </tr>\n",
       "    <tr>\n",
       "      <th>3</th>\n",
       "      <td>product_cart</td>\n",
       "      <td>1026</td>\n",
       "      <td>1082.0</td>\n",
       "      <td>0.948244</td>\n",
       "      <td>0.948244</td>\n",
       "      <td>0.051756</td>\n",
       "    </tr>\n",
       "  </tbody>\n",
       "</table>\n",
       "</div>"
      ],
      "text/plain": [
       "     event_name  user_id  n_id_prev  variación  conversion     ratio\n",
       "0         login     3480        NaN        NaN         NaN       NaN\n",
       "1  product_page     2178     3480.0   0.625862    0.625862  0.374138\n",
       "2      purchase     1082     2178.0   0.496786    0.496786  0.503214\n",
       "3  product_cart     1026     1082.0   0.948244    0.948244  0.051756"
      ]
     },
     "metadata": {},
     "output_type": "display_data"
    }
   ],
   "source": [
    "#Calculando embudo\n",
    "\n",
    "data_resumen[\"n_id_prev\"] = data_resumen[\"user_id\"].shift(1)\n",
    "data_resumen[\"variación\"] = data_resumen[\"user_id\"] / data_resumen[\"n_id_prev\"]\n",
    "\n",
    "data_resumen[\"conversion\"] = data_resumen[\"user_id\"] / data_resumen[\"n_id_prev\"]\n",
    "data_resumen[\"ratio\"] = 1 - data_resumen[\"conversion\"]\n",
    "\n",
    "display(data_resumen)"
   ]
  },
  {
   "cell_type": "markdown",
   "metadata": {},
   "source": [
    "# Prueba de hipótesis"
   ]
  },
  {
   "cell_type": "code",
   "execution_count": 189,
   "metadata": {},
   "outputs": [],
   "source": [
    "\n",
    "\n",
    "# Función prueba de significancia para dos grupos con cálculo de z-score\n",
    "def t_test_with_zscore(df, group1, group2, event, group_col=\"group\"):\n",
    "    conversions = df[[\"user_id\", group_col]].drop_duplicates()\n",
    "\n",
    "    converted = pd.DataFrame(data={\n",
    "        \"user_id\": df[df[\"event_name\"] == event][\"user_id\"].unique(),\n",
    "        \"converted\": 1\n",
    "    })\n",
    "\n",
    "    conversions = conversions.merge(converted, on=\"user_id\", how=\"left\")\n",
    "    conversions[\"converted\"] = conversions[\"converted\"].fillna(0)\n",
    "\n",
    "    # Prueba t\n",
    "    statistic, pvalue = ttest_ind(\n",
    "        conversions[conversions[group_col] == group1][\"converted\"],\n",
    "        conversions[conversions[group_col] == group2][\"converted\"]\n",
    "    )\n",
    "\n",
    "    # Cálculo del z-score\n",
    "    n1 = conversions[conversions[group_col] == group1].shape[0]\n",
    "    n2 = conversions[conversions[group_col] == group2].shape[0]\n",
    "    x1 = conversions[conversions[group_col] == group1][\"converted\"].sum()\n",
    "    x2 = conversions[conversions[group_col] == group2][\"converted\"].sum()\n",
    "    p1 = x1 / n1\n",
    "    p2 = x2 / n2\n",
    "    p_combined = (x1 + x2) / (n1 + n2)\n",
    "\n",
    "    z_score = (p1 - p2) / \\\n",
    "        ((p_combined * (1 - p_combined) * (1/n1 + 1/n2)) ** 0.5)\n",
    "    p_value_z = norm.sf(abs(z_score)) * 2  # Prueba de dos colas\n",
    "\n",
    "    result = {\n",
    "        \"t_statistic\": statistic,\n",
    "        \"t_pvalue\": pvalue,\n",
    "        \"z_score\": z_score,\n",
    "        \"z_pvalue\": p_value_z,\n",
    "       \n",
    "    }\n",
    "\n",
    "    return result"
   ]
  },
  {
   "cell_type": "code",
   "execution_count": 190,
   "metadata": {},
   "outputs": [
    {
     "name": "stdout",
     "output_type": "stream",
     "text": [
      "Running A/B tests...\n",
      "{'t_statistic': 1.9911621632269447, 't_pvalue': 0.04654114479380872, 'z_score': 1.9906004806163913, 'z_pvalue': 0.04652482738393029}\n",
      "{'t_statistic': 1.2406846609642443, 't_pvalue': 0.21480592200940893, 'z_score': 1.2407667698576503, 'z_pvalue': 0.21469192029582396}\n",
      "{'t_statistic': 1.7236283932805712, 't_pvalue': 0.08486379476472086, 'z_score': 1.7233880726932327, 'z_pvalue': 0.08481837035887359}\n",
      "{'t_statistic': 4.507247296872992, 't_pvalue': 6.7836918039713375e-06, 'z_score': 4.495436444894488, 'z_pvalue': 6.94273935952599e-06}\n"
     ]
    },
    {
     "name": "stderr",
     "output_type": "stream",
     "text": [
      "C:\\Users\\LUCIA\\AppData\\Local\\Packages\\PythonSoftwareFoundation.Python.3.12_qbz5n2kfra8p0\\LocalCache\\local-packages\\Python312\\site-packages\\scipy\\stats\\_axis_nan_policy.py:523: RuntimeWarning: Precision loss occurred in moment calculation due to catastrophic cancellation. This occurs when the data are nearly identical. Results may be unreliable.\n",
      "  res = hypotest_fun_out(*samples, **kwds)\n"
     ]
    }
   ],
   "source": [
    "events = data_new[\"event_name\"].unique()\n",
    "print(\"Running A/B tests...\")\n",
    "for event in events:\n",
    "    result = t_test_with_zscore(data_new, \"A\", \"B\", event)\n",
    "    print(result)"
   ]
  },
  {
   "cell_type": "code",
   "execution_count": 191,
   "metadata": {},
   "outputs": [
    {
     "name": "stdout",
     "output_type": "stream",
     "text": [
      "\n",
      "Nivel de significancia para cada prueba debe ser mayor a : 0.012741455098566168\n",
      "\n"
     ]
    }
   ],
   "source": [
    "n_pruebas = 4\n",
    "alpha = 0.05\n",
    "\n",
    "print(f\"\"\"\n",
    "Nivel de significancia para cada prueba debe ser mayor a : {1 - math.pow((1 - alpha), 1/n_pruebas)}\n",
    "\"\"\")"
   ]
  },
  {
   "cell_type": "markdown",
   "metadata": {},
   "source": [
    "Primer resultado:\n",
    "\n",
    "tanto la prueba t como el z-score rechazan la hipótesis nula con p-valores de aproximadamente 0.0465. Esto indica que hay una diferencia estadísticamente significativa entre los dos grupos para este evento.\n",
    "\n",
    "2do resultado\n",
    " Tanto la prueba t como el z-score no rechazan la hipótesis nula con p-valores de aproximadamente 0.2148 y 0.2147, respectivamente. Esto indica que no hay una diferencia estadísticamente significativa entre los dos grupos para este evento.\n",
    "\n",
    "3er resultado\n",
    "Tanto la prueba t como el z-score no rechazan la hipótesis nula con p-valores de aproximadamente 0.0849 y 0.0848, respectivamente. Aunque los p-valores son menores a 0.1, no alcanzan el umbral comúnmente usado de 0.05, por lo que no hay una diferencia estadísticamente significativa entre los dos grupos para este evento, aunque hay una indicación de que podría haber una diferencia.\n",
    "\n",
    "4to resultado\n",
    "\n",
    "Tanto la prueba t como el z-score rechazan fuertemente la hipótesis nula con p-valores extremadamente bajos (aproximadamente 0.000006). Esto indica que hay una diferencia altamente significativa entre los dos grupos para este evento.\n",
    "\n",
    "\n",
    "En el primer y cuarto eventos, tanto la prueba t como el z-score indican diferencias significativas entre los grupos.\n",
    "En el segundo evento, no hay evidencia de una diferencia significativa entre los grupos.\n",
    "En el tercer evento, aunque los p-valores son relativamente bajos, no alcanzan el umbral comúnmente usado de 0.05, por lo que no se considera una diferencia significativa.\n",
    "\n",
    "El evento más importante es el de \"purchase\" y no hubo cambio significativo.\n",
    "\n"
   ]
  },
  {
   "cell_type": "markdown",
   "metadata": {},
   "source": [
    "No se puede rechazar la hipotesis nula, lo que podemos concluir que no hay una diferencia estadísticamente significativa entre las muestras"
   ]
  },
  {
   "cell_type": "markdown",
   "metadata": {},
   "source": [
    "# Conclusiones"
   ]
  },
  {
   "cell_type": "markdown",
   "metadata": {},
   "source": [
    "En este caso, no hay evidencia suficiente para rechazar la hipótesis nula de que no hay diferencia entre los grupos A y B. Por lo tanto, se concluye que los grupos A y B son similares y que cualquier diferencia observada entre ellos podría deberse al azar en lugar de a un efecto real.\n",
    "\n",
    "El recommender_system no genera cambios significativos en el comportamiento del usuario.\n",
    "\n",
    "Solo el 33% de usuarios ven  product_page, luego de ver la pantalla de inicio.Esto puede sugerir indagar cuál es el motivo que hace que sea la etapa donde se pierda la mayor cantidad de usuarios. "
   ]
  }
 ],
 "metadata": {
  "kernelspec": {
   "display_name": "Python 3",
   "language": "python",
   "name": "python3"
  },
  "language_info": {
   "codemirror_mode": {
    "name": "ipython",
    "version": 3
   },
   "file_extension": ".py",
   "mimetype": "text/x-python",
   "name": "python",
   "nbconvert_exporter": "python",
   "pygments_lexer": "ipython3",
   "version": "3.12.4"
  }
 },
 "nbformat": 4,
 "nbformat_minor": 2
}
